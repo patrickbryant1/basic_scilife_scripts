{
 "cells": [
  {
   "cell_type": "code",
   "execution_count": 1,
   "metadata": {},
   "outputs": [],
   "source": [
    "#Imports\n",
    "import sys\n",
    "import os\n",
    "import numpy as np\n",
    "from ast import literal_eval\n",
    "import pandas as pd\n",
    "import glob\n",
    "\n",
    "from sklearn.model_selection import train_test_split\n",
    "from sklearn.metrics import classification_report, confusion_matrix\n",
    "from sklearn.ensemble import RandomForestClassifier, RandomForestRegressor, AdaBoostRegressor\n",
    "from collections import Counter\n",
    "\n",
    "from sklearn.linear_model import LinearRegression\n",
    "\n",
    "import matplotlib.pyplot as plt\n",
    "import seaborn as sns\n",
    "import tables\n",
    "import time\n",
    "from scipy import stats\n",
    "\n",
    "import pdb"
   ]
  },
  {
   "cell_type": "code",
   "execution_count": 2,
   "metadata": {},
   "outputs": [],
   "source": [
    "def read_fasta(fasta_file):\n",
    "    '''Read fasta file\n",
    "    '''\n",
    "\n",
    "    sequence = '' #Store sequence\n",
    "\n",
    "    with open(fasta_file) as file:\n",
    "        for line in file:\n",
    "            line = line.rstrip() #remove \\n\n",
    "            if line[0] == '>':\n",
    "                uid = line[1:]\n",
    "            else:\n",
    "                sequence += line\n",
    "\n",
    "    return uid, sequence\n",
    "\n"
   ]
  },
  {
   "cell_type": "code",
   "execution_count": 3,
   "metadata": {},
   "outputs": [],
   "source": [
    "fasta_files = glob.glob('/home/pbryant/data/CATH/h_grouped/fasta_below95/*/*.fa')\n",
    "\n",
    "sequences = []\n",
    "uids = []\n",
    "H_groups = []\n",
    "\n",
    "for fasta_file in fasta_files:\n",
    "    H_groups.append(fasta_file.split('/')[-2])\n",
    "    uid, sequence = read_fasta(fasta_file)\n",
    "    uids.append(uid)\n",
    "    sequences.append(sequence)\n"
   ]
  },
  {
   "cell_type": "code",
   "execution_count": 4,
   "metadata": {},
   "outputs": [
    {
     "data": {
      "text/plain": [
       "<bound method NDFrame.head of              H_group      uid  \\\n",
       "0        3.30.40.130  2m13A00   \n",
       "1       3.90.1360.10  3iu0A00   \n",
       "2       1.10.10.2140  2z1dA03   \n",
       "3       1.10.10.2600  4bqqB02   \n",
       "4       1.10.10.2600  4kisA01   \n",
       "5       3.30.450.340  3p01A02   \n",
       "6      1.20.120.1500  3iynN01   \n",
       "7       3.30.1230.10  1g2rA00   \n",
       "8      3.30.1490.340  3c0fB00   \n",
       "9        2.10.150.10  4ac7B00   \n",
       "10       2.10.150.10  3qgaA02   \n",
       "11       2.10.150.10  1e9yA01   \n",
       "12       2.10.150.10  4z42B00   \n",
       "13       2.10.150.10  4ep8B00   \n",
       "14       2.10.150.10  4g7eB03   \n",
       "15       2.10.150.10  4gy7A03   \n",
       "16       2.60.260.60  3akoD00   \n",
       "17      2.60.40.3430  4apxB01   \n",
       "18     1.20.1440.280  4g75A01   \n",
       "19     1.20.1440.280  2xmxA01   \n",
       "20       3.10.640.10  2ot9A01   \n",
       "21       3.10.640.10  2g3wA00   \n",
       "22       3.10.640.10  3c0uA00   \n",
       "23        1.20.58.70  2dnxA00   \n",
       "24        1.20.58.70  4jehB00   \n",
       "25        1.20.58.70  1fioA00   \n",
       "26        1.20.58.70  2xheB01   \n",
       "27        1.20.58.70  5m4yA00   \n",
       "28        1.20.58.70  1s94B00   \n",
       "29        1.20.58.70  4tx5B00   \n",
       "...              ...      ...   \n",
       "54241   3.30.1520.10  2i4kA00   \n",
       "54242    3.30.499.20  4kp2A01   \n",
       "54243    3.30.499.20  4kp1A01   \n",
       "54244    3.30.499.20  3snpA01   \n",
       "54245   2.30.30.1030  4omfB02   \n",
       "54246    3.30.390.70  3cxbA02   \n",
       "54247    3.40.50.980  3cw9A02   \n",
       "54248    3.40.50.980  2d1sA02   \n",
       "54249    3.40.50.980  1mdbA01   \n",
       "54250    3.40.50.980  1amuA02   \n",
       "54251    3.40.50.980  4g36A02   \n",
       "54252    3.40.50.980  2vsqA03   \n",
       "54253    3.40.50.980  2vsqA04   \n",
       "54254    3.40.50.980  1mdbA02   \n",
       "54255    3.40.50.980  4rlqA01   \n",
       "54256    3.40.50.980  2d1sA03   \n",
       "54257    3.40.50.980  1amuA01   \n",
       "54258    3.40.50.980  3cw9A01   \n",
       "54259    3.40.50.980  3a9uA01   \n",
       "54260   3.30.1740.20  5flxa00   \n",
       "54261   3.30.1740.20  5ll6e00   \n",
       "54262   3.30.1740.20  2xzm500   \n",
       "54263   3.30.1740.20  3j7a300   \n",
       "54264   3.30.1740.20  3jama00   \n",
       "54265   1.10.150.520  2hoqA02   \n",
       "54266  1.20.120.1270  4dvyP03   \n",
       "54267    4.10.260.10  2pbiA03   \n",
       "54268    4.10.260.10  1gotG00   \n",
       "54269    4.10.260.10  3v5wG00   \n",
       "54270    4.10.260.10  5kdoG00   \n",
       "\n",
       "                                                sequence  \n",
       "0      GPVQIDPYLEDSLCHICSSQPGPFFCRDQVCFKYFCRSCWHWRHSM...  \n",
       "1      DNGAGEETKSYAETYRLTADDVANINALNESAPAASSAGPSFRAPD...  \n",
       "2      EKGCRCGAVLRGLALPTDCPLFGKTCTPRHPVGPCMVSYEGTCQIF...  \n",
       "3      SAKILDTKNLQRELGGYVGGKAPYGFELVSETKEITRNGRMVNVVI...  \n",
       "4      RDRMVMGKIKRIEAGLPLTTAKGRTFGYDVIDTKLYINEEEAKQLR...  \n",
       "5      VNACILQXLEGQTLSTIQGFYSQQGTVNNWLNQDPLTNEAIATGQI...  \n",
       "6      MMQDATDPAVRAALQSQPSGLNSTDDWRQVMDRIMSLTARNPDAFR...  \n",
       "7      GSHMKTRKIPLRKSVVSNEVIDKRDLLRIVKNKEGQVFIDPTGKAN...  \n",
       "8      MEIMDEIXVNLQKEVSLEEAERYAXNIASXYGDGILLSVHDSXTGY...  \n",
       "9      MSNNNYIVPGEYRVAEGEIEINAGREKTTIRVSNTGDRPIQVGSHI...  \n",
       "10     DFKAGEIKFASDKDIELNAGKEITELKVTNKGPKSLHVGSHFHFFE...  \n",
       "11     LVPGELFLKNEDITINEGKKAVSVKVKNVGDRPVQIGSHFHFFEVN...  \n",
       "12     NTPLGGCILADTPITFNENKPVTKVKVRNTGDRPIQVGSHFHFFEV...  \n",
       "13     MIPGEYHVKPGQIALNTGRATCRVVVENHGDRPIQVGSHYHFAEVN...  \n",
       "14     RKAVILKVVNNGDRPVQVGSHYHFIELNPYLTFDRRKAYGMRLNIA...  \n",
       "15     RKAVILKVTSKGDRPIQVGSHYHFIEVNPYLTFDRRKAYGMRLNIA...  \n",
       "16     MDKQKNGIKANFKIRHNIEDGGVQLADHYQQNTPIGDGPVLLPDNH...  \n",
       "17     MQYDDDWQYEDCKLARGGPPATIVAIDEESRNGTILVDNMLIKGTA...  \n",
       "18     XVXDLGTTTIVAGQGDFSAYNYGNNGANWPAPSPAQVGYISKGQRD...  \n",
       "19     METLTVHAPSPSTNLPSYGNGAFSLSAPHVPGAGPLLVQVVYSFFQ...  \n",
       "20     MAQPSTTYKFELNLTDLDRGVYESVKQTIARHPSETEERXTVRLLA...  \n",
       "21     XALTATVRRAELQISDXDRGYYANHSLTLAQHPSETDERLXVRLLA...  \n",
       "22     QGHALKATIYKATVNVADLDRNQFLDASLTLARHPSETQERXXLRL...  \n",
       "23     GSSGSSGQLRDFSSIIQTCSGNIQRISQATAQIKNLMSQLGTKQDS...  \n",
       "24     MDRDRFMDEFFEQVEEIRGFIDKIAENVEEVKRKHSAILASPNPDE...  \n",
       "25     MHDFVGFMNKISQINRDLDKYDHTINQVDSLHKRLLTEVNEEQASH...  \n",
       "26     EPFMADFFNRVKRIRDNIEDIEQAIEQVAQLHTESLVAVSKEDRDR...  \n",
       "27     GSHMDFVAFMNKINSINANLSRYENIINQIDAQHKDLLTQVSEEQE...  \n",
       "28     FMEEFFEQVEEIRAMIDKISDNVDAVKKKHSDILSAPQTDDQMKEE...  \n",
       "29     AVPIAQKSEPHSLSSEALMRRAVSLVTDSTSTFLSQTTYALIEAIT...  \n",
       "...                                                  ...  \n",
       "54241  QFDLTVGITDPEKIGDGMNAYVAYKVTTQTSLPLFRSKQFAVKRRF...  \n",
       "54242  TLVEKILSKKVGYEVCAGDSIEVEVDLAMTHDGTTPLAYKALKEMS...  \n",
       "54243  TIVEKILAKASGKKEVSPGDIVXANIDVAXVHDITGPLTVNTLKEY...  \n",
       "54244  SNPFAYLAEPLDPAQPGKKFFNLNKLDYSRYGRLPFSIRVLLEAAV...  \n",
       "54245    PYTSLQTFICEKLGVSMELVEKMDIGKGKFWVYTQDDVLTLPLKETH  \n",
       "54246  DILKSHPQMTAMIKRRYSEIVDYPLPSTLCLNPAGAPILSVPLDNI...  \n",
       "54247  QRAAESRVLFMSTQVGLRHGRHNVVLGLMPLYHVVGFFAVLVAALA...  \n",
       "54248  IEEGSAGTQLRKYMERYAKLGAIAFTNAVTGVDYSHENIVTRFSHA...  \n",
       "54249  WAGETFGDLLRDRAAKYGDRIAITCGNTHWSYRELDTRADRLAAGF...  \n",
       "54250  GISNLKVFFENSLNVTEKDRIGQFASISFDASVWEMFMALLTGASL...  \n",
       "54251  LEDGTAGEQLHKAMKRYALVPGTIAFTDAHIEVNITHRTACVRFSH...  \n",
       "54252  QAHETKPLTYWFKEAVNANPDAPALTYSGQTLSTHANIQGLVKHVD...  \n",
       "54253  YRELDEEANRIARRLQKHGAGKGSVVALYTKRSLELVIGILGVLKA...  \n",
       "54254  KSSDVAFLQLSGGSTGLSKLIPRTHDDYIYSLKRSVEVCWLDHSTV...  \n",
       "54255  VTPPPEKFNFAEHLLQTNRVRPDKTAFVDDISSLSFAQLEAQTRQL...  \n",
       "54256  YAEYLEKSCXLGKALQNYGLVVDGRIALCSENCEEFFIPVIAGLFI...  \n",
       "54257  PRDKTIHQLFEEQVSKRPNNVAIVCENEQLTYHELNVKANQLARIF...  \n",
       "54258  MQTVNEMLRRAATRAPDHCALAVPARGLRLTHAELRARVEAVAARL...  \n",
       "54259  PLHSYVLENLSNHSSKPCLINGANGDVYTHKGLITSVAQQVDGDNP...  \n",
       "54260  MTKKRRNNGRAKKGRGHVQPIRCTNCARCVPKDKAIKKFVIRNIVE...  \n",
       "54261  MPKKRASNGRNKKGRGHVKPVRCVNCSKSIPKDKAIKRMAIRNIVE...  \n",
       "54262  MPVKRRNAGRSQKNRGHTRTVPCTNCGRQVAKDKAVKRYTVRDMVD...  \n",
       "54263  MPKKRRNGGRSKHNRGHVNPLRCSNCGRCVPKDKAIKRFNIRNIVD...  \n",
       "54264  MPKKRASNGRNKKGRGHVKPVRCVNCSRSVPKDKAIKRMAIRNIVE...  \n",
       "54265  TSKLAEIARKNAIENMIRHGLPVDFETAYSELIELIKEYGSNFPYH...  \n",
       "54266  KMEAKAQANSQKDEIFALINKEANRDARAIAYTQNLKGIKRELSDK...  \n",
       "54267  NEVKKQTVTAVRKEIMYYQQALMRSTVKSSVSLGGIVKYSEQFSSN...  \n",
       "54268  MPVINIEDPVINIEDLTEKDKLKMEVDQLKKEVTLERMLVSKCCEE...  \n",
       "54269  HHHHHHMASNNTASIAQARKLVEQLKMEANIDRIKVSKAAADLMAY...  \n",
       "54270  MPVINIEDLTEKDKLKMEVDQLKKEVTLERMLVSKCCEEFRDYVEE...  \n",
       "\n",
       "[54271 rows x 3 columns]>"
      ]
     },
     "execution_count": 4,
     "metadata": {},
     "output_type": "execute_result"
    }
   ],
   "source": [
    "df = pd.DataFrame(list(zip(H_groups, uids, sequences)), \n",
    "               columns =['H_group', 'uid', 'sequence']) \n",
    "df.head"
   ]
  },
  {
   "cell_type": "code",
   "execution_count": 8,
   "metadata": {},
   "outputs": [
    {
     "name": "stdout",
     "output_type": "stream",
     "text": [
      "6002\n",
      "3183\n"
     ]
    },
    {
     "data": {
      "image/png": "[encoded data removed]",
      "text/plain": [
       "<Figure size 432x288 with 1 Axes>"
      ]
     },
     "metadata": {
      "needs_background": "light"
     },
     "output_type": "display_data"
    }
   ],
   "source": [
    "h_counts = Counter([*df['H_group']])\n",
    "print(len([*h_counts.keys()]))\n",
    "above_2 = []\n",
    "counts_above_2 = []\n",
    "for key in h_counts.keys():\n",
    "    if h_counts[key] >1:\n",
    "        above_2.append(key)\n",
    "        counts_above_2.append(h_counts[key])\n",
    "print(len(above_2))\n",
    "plt.hist([*h_counts.values()], bins = 200, log = True)\n",
    "plt.hist([, bins = 200, log = True)\n",
    "plt.show()"
   ]
  },
  {
   "cell_type": "code",
   "execution_count": 9,
   "metadata": {
    "scrolled": false
   },
   "outputs": [
    {
     "name": "stdout",
     "output_type": "stream",
     "text": [
      "54271 51452\n"
     ]
    }
   ],
   "source": [
    "above_2_df = df[df['H_group'].isin(above_2)]\n",
    "print(len(df), len(above_2_df))\n",
    "above_2_df.to_csv('above2.csv')"
   ]
  }
 ],
 "metadata": {
  "kernelspec": {
   "display_name": "Python 3",
   "language": "python",
   "name": "python3"
  },
  "language_info": {
   "codemirror_mode": {
    "name": "ipython",
    "version": 3
   },
   "file_extension": ".py",
   "mimetype": "text/x-python",
   "name": "python",
   "nbconvert_exporter": "python",
   "pygments_lexer": "ipython3",
   "version": "3.6.8"
  }
 },
 "nbformat": 4,
 "nbformat_minor": 2
}
