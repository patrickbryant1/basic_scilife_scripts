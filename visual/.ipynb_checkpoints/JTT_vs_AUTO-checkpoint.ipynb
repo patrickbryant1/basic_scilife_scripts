{
 "cells": [
  {
   "cell_type": "code",
   "execution_count": null,
   "metadata": {},
   "outputs": [],
   "source": [
    "#Comparing auto and JTT models in tree-puzzle for datasets"
   ]
  },
  {
   "cell_type": "code",
   "execution_count": 5,
   "metadata": {},
   "outputs": [],
   "source": [
    "#Imports\n",
    "import matplotlib.pyplot as plt\n",
    "import pandas as pd\n",
    "from collections import Counter\n",
    "import os\n",
    "import random\n",
    "import glob\n",
    "import numpy as np\n",
    "import seaborn as sns\n",
    "from scipy import stats\n",
    "import subprocess\n",
    "import pdb"
   ]
  },
  {
   "cell_type": "code",
   "execution_count": 1,
   "metadata": {},
   "outputs": [],
   "source": [
    "def parse_puzzle(indir, key):\n",
    "    '''Parse output from tree-puzzle and write to dict\n",
    "    '''\n",
    "    dist_file = open(indir + key + '.phy.dist')\n",
    "    \n",
    "    for line in dist_file:\n",
    "        line = line.rstrip()\n",
    "        line = line.split(\" \") #split on double space\n",
    "        line = list(filter(None, line)) #Filter away empty strings\n",
    "\n",
    "        if len(line)>2:\n",
    "            seq_dist = line[-1] #Get ML evolutionary distance between sequences\n",
    "            break\n",
    "    dist_file.close()\n",
    "\n",
    "    return seq_dist"
   ]
  },
  {
   "cell_type": "code",
   "execution_count": 63,
   "metadata": {},
   "outputs": [],
   "source": [
    "complete_dssp_df = pd.read_csv('/hdd/pbryant/results/CATH/20190904/complete_dssp_df.csv')\n",
    "complete_jtt_df = pd.read_csv('/hdd/pbryant/results/CATH/20190904/complete_dssp_df_jtt.csv')"
   ]
  },
  {
   "cell_type": "code",
   "execution_count": 23,
   "metadata": {},
   "outputs": [],
   "source": [
    "#Parse puzzle\n",
    "uid1 = [*complete_dssp_df['uid1']]\n",
    "uid2 = [*complete_dssp_df['uid2']]\n",
    "hgroups = [*complete_dssp_df['H_group']]\n",
    "\n",
    "#Get JTT evdists\n",
    "base = '/hdd/pbryant/results/CATH/20190904/rerun_puzzle/AA20/JTT'\n",
    "suffices = ['sequence', 'structure']\n",
    "JTT_evdists = []\n",
    "for i in range(len(suffices)):\n",
    "    suffix = suffices[i]\n",
    "    evdists = [] #Save evdists\n",
    "    for i in range(len(uid1)):\n",
    "        key = uid1[i]+'_'+uid2[i]\n",
    "        indir = base + '/' + suffix + '/'+hgroups[i]+'/'\n",
    "\n",
    "        seq_dist = parse_puzzle(indir, key)\n",
    "        evdists.append(seq_dist)\n",
    "    JTT_evdists.append(evdists)\n",
    "        \n",
    "        \n",
    "#Get AUTO evdists\n",
    "base = '/hdd/pbryant/results/CATH/20190904/rerun_puzzle/AA20/Auto'\n",
    "suffices = ['sequence', 'structure']\n",
    "AUTO_evdists = []\n",
    "failed_groups = []\n",
    "for i in range(len(suffices)):\n",
    "    suffix = suffices[i]\n",
    "    evdists = []\n",
    "    for i in range(len(uid1)):\n",
    "        key = uid1[i]+'_'+uid2[i]\n",
    "        indir = base + '/' + suffix + '/'+hgroups[i]+'/'\n",
    "        try:\n",
    "            seq_dist = parse_puzzle(indir, key)\n",
    "            evdists.append(seq_dist)\n",
    "        except:\n",
    "            if hgroups[i] not in failed_groups:\n",
    "                print(hgroups[i])\n",
    "                failed_groups.append(hgroups[i])\n",
    "    AUTO_evdists.append(evdists)\n",
    "\n"
   ]
  },
  {
   "cell_type": "code",
   "execution_count": 25,
   "metadata": {},
   "outputs": [
    {
     "name": "stdout",
     "output_type": "stream",
     "text": [
      "49103 49103\n",
      "49103 49103\n"
     ]
    }
   ],
   "source": [
    "print(len(JTT_evdists[0]), len(JTT_evdists[1]))\n",
    "print(len(AUTO_evdists[0]), len(AUTO_evdists[1]))"
   ]
  },
  {
   "cell_type": "code",
   "execution_count": 72,
   "metadata": {},
   "outputs": [],
   "source": [
    "#Change jtt df into correct.\n",
    "x = []\n",
    "[x.append(float(JTT_evdists[0][i])) for i in range(len(JTT_evdists[0]))]\n",
    "complete_jtt_df['MLAAdist_seqaln'] = x\n",
    "\n",
    "x = []\n",
    "[x.append(float(JTT_evdists[1][i])) for i in range(len(JTT_evdists[1]))]\n",
    "complete_jtt_df['MLAAdist_straln'] = x"
   ]
  },
  {
   "cell_type": "code",
   "execution_count": 74,
   "metadata": {},
   "outputs": [],
   "source": [
    "complete_jtt_df.to_csv('/hdd/pbryant/results/CATH/20190904/complete_dssp_df_jtt.csv')"
   ]
  }
 ],
 "metadata": {
  "kernelspec": {
   "display_name": "Python 3",
   "language": "python",
   "name": "python3"
  },
  "language_info": {
   "codemirror_mode": {
    "name": "ipython",
    "version": 3
   },
   "file_extension": ".py",
   "mimetype": "text/x-python",
   "name": "python",
   "nbconvert_exporter": "python",
   "pygments_lexer": "ipython3",
   "version": "3.6.8"
  }
 },
 "nbformat": 4,
 "nbformat_minor": 2
}
