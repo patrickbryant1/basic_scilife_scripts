{
 "cells": [
  {
   "cell_type": "code",
   "execution_count": null,
   "metadata": {
    "collapsed": true
   },
   "outputs": [],
   "source": [
    "#Has to start at 0, since Keras apparently uses the index for lookup\n",
    "AMINO_ACIDS = { \n",
    "'A':0,\n",
    "'R':1,\n",
    "'N':2,\n",
    "'D':3,\n",
    "'C':4,\n",
    "'E':5,\n",
    "'Q':6,\n",
    "'G':7,\n",
    "'H':8,\n",
    "'I':9,\n",
    "'L':10,\n",
    "'K':11,\n",
    "'M':12,\n",
    "'F':13,\n",
    "'P':14,\n",
    "'S':15,\n",
    "'T':16,\n",
    "'W':17,\n",
    "'Y':18,\n",
    "'V':19,\n",
    "'X':20, #UNKNOWN\n",
    "'-':21\n",
    "}\n",
    "\n",
    "\n"
   ]
  }
 ],
 "metadata": {
  "kernelspec": {
   "display_name": "Python 3",
   "language": "python",
   "name": "python3"
  },
  "language_info": {
   "codemirror_mode": {
    "name": "ipython",
    "version": 3
   },
   "file_extension": ".py",
   "mimetype": "text/x-python",
   "name": "python",
   "nbconvert_exporter": "python",
   "pygments_lexer": "ipython3",
   "version": "3.6.1"
  }
 },
 "nbformat": 4,
 "nbformat_minor": 2
}
