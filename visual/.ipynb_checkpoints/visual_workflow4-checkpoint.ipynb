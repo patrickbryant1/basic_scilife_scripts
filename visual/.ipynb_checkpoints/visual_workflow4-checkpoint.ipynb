{
 "cells": [
  {
   "cell_type": "code",
   "execution_count": null,
   "metadata": {},
   "outputs": [],
   "source": [
    "#Visual notebook for get data workflow 4"
   ]
  },
  {
   "cell_type": "code",
   "execution_count": 47,
   "metadata": {},
   "outputs": [],
   "source": [
    "#Imports\n",
    "import matplotlib.pyplot as plt\n",
    "import pandas as pd\n",
    "from collections import Counter\n",
    "import os\n",
    "import pdb"
   ]
  },
  {
   "cell_type": "code",
   "execution_count": 2,
   "metadata": {},
   "outputs": [],
   "source": [
    "#Initial grouping of files\n",
    "#Functions\n",
    "def read_tsv(H_groups_file):\n",
    "\t'''Read ids and H-groups into dict\n",
    "\t'''\n",
    "\n",
    "\tH_groups = {} #Store H-groups and uids\n",
    "\n",
    "\twith open(H_groups_file) as file:\n",
    "\t\tfor line in file:\n",
    "\t\t\tline = line.rstrip() #remove \\n\n",
    "\t\t\tline = line.split(',')\n",
    "\t\t\tuid = line[0]\n",
    "\t\t\tH_group = line[1:]\n",
    "\t\t\tH_group = H_group[0]+'.'+H_group[1]+'.'+H_group[2]+'.'+H_group[3]\n",
    "\t\t\tH_groups[uid] = H_group\n",
    "\n",
    "\n",
    "\treturn H_groups\n",
    "\n",
    "def read_fasta(fasta_file):\n",
    "\t'''Read fasta file into dict\n",
    "\t'''\n",
    "\n",
    "\tsequences = {} #Store sequences\n",
    "\n",
    "\twith open(fasta_file) as file:\n",
    "\t\tfor line in file:\n",
    "\t\t\tline = line.rstrip() #remove \\n\n",
    "\t\t\tif line[0] == '>':\n",
    "\t\t\t\tuid = line.split('|')[2].split('/')[0]\n",
    "\t\t\telse:\n",
    "\t\t\t\tsequences[uid] = line\n",
    "\n",
    "\treturn sequences\n",
    "\n",
    "\n",
    "def get_groups(H_groups, sequences):\n",
    "\t'''Get H-group for each uid and group sequences accordingly\n",
    "\t'''\n",
    "\n",
    "\n",
    "\tgrouped_sequences = {} #Sequences grouped by H-group\n",
    "\n",
    "\tfor key in sequences:\n",
    "\t\tH_group = H_groups[key]\n",
    "\t\tsequence = sequences[key]\n",
    "\n",
    "\t\tif H_group not in grouped_sequences.keys(): #If not in new dict - add\n",
    "\t\t\tgrouped_sequences[H_group] = [key + '/' + sequence]\n",
    "\t\telse:\n",
    "\t\t\tgrouped_sequences[H_group].append(key + '/' + sequence) #Otherwise append\n",
    "\n",
    "\treturn grouped_sequences\n",
    "\n",
    "\n",
    "\n",
    "H_groups = read_tsv('/home/pbryant/data/CATH/h_grouped/H_group.tsv')\n",
    "sequences = read_fasta('/home/pbryant/data/CATH/reallybelow95.fa')\n",
    "grouped_sequences = get_groups(H_groups, sequences)"
   ]
  },
  {
   "cell_type": "code",
   "execution_count": 35,
   "metadata": {},
   "outputs": [
    {
     "name": "stdout",
     "output_type": "stream",
     "text": [
      "Original number of groups: 6119\n",
      "Groups with no more than 95 % sequence identity: 6002\n",
      "54271\n"
     ]
    }
   ],
   "source": [
    "print('Original number of groups:',len(Counter(H_groups.values()).keys()))\n",
    "print('Groups with no more than 95 % sequence identity:',len(grouped_sequences.keys()))\n",
    "print(len(sequences))"
   ]
  },
  {
   "cell_type": "code",
   "execution_count": 11,
   "metadata": {},
   "outputs": [
    {
     "name": "stdout",
     "output_type": "stream",
     "text": [
      "Failed groups: 2984 |Failed uids: 12723\n"
     ]
    }
   ],
   "source": [
    "failed_pdb_filter = pd.read_csv('/home/pbryant/data/CATH/failed_pdb_filter_2.6Å.txt', sep = '\\n', header = None)\n",
    "u_hgroups = []\n",
    "for row in failed_pdb_filter[0]:\n",
    "    group = H_groups[row]\n",
    "    if group in u_hgroups:\n",
    "        continue\n",
    "    else:\n",
    "        u_hgroups.append(group)\n",
    "print('Failed groups:',len(u_hgroups), '|Failed uids:',len(failed_pdb_filter))\n",
    "#Should count how many groups disappear by removing the uids that failed"
   ]
  },
  {
   "cell_type": "code",
   "execution_count": 12,
   "metadata": {},
   "outputs": [],
   "source": [
    "failed_uids = [*failed_pdb_filter[0]]\n",
    "passed_uids = []\n",
    "for uid in sequences:\n",
    "    if uid in failed_uids:\n",
    "        continue\n",
    "    else:\n",
    "        passed_uids.append(uid)\n",
    "    \n",
    "    "
   ]
  },
  {
   "cell_type": "code",
   "execution_count": 18,
   "metadata": {},
   "outputs": [
    {
     "name": "stdout",
     "output_type": "stream",
     "text": [
      "41548\n",
      "12723\n",
      "54271\n",
      "54271\n"
     ]
    }
   ],
   "source": [
    "print(len(passed_uids))\n",
    "print(len(failed_uids))\n",
    "print(len(passed_uids)+len(failed_uids))\n",
    "print(len(sequences))"
   ]
  },
  {
   "cell_type": "code",
   "execution_count": 13,
   "metadata": {},
   "outputs": [],
   "source": [
    "H_groups = read_tsv('/home/pbryant/data/CATH/h_grouped/H_group.tsv')\n",
    "passed_uids_grouped = {} #Sequences grouped by H-group\n",
    "for uid in passed_uids:\n",
    "    H_group = H_groups[uid]\n",
    "       \n",
    "    if H_group not in passed_uids_grouped.keys(): #If not in new dict - add\n",
    "        passed_uids_grouped[H_group] = [uid]\n",
    "    else:\n",
    "        passed_uids_grouped[H_group].append(uid) #Otherwise append\n"
   ]
  },
  {
   "cell_type": "code",
   "execution_count": 41,
   "metadata": {},
   "outputs": [
    {
     "data": {
      "text/plain": [
       "Text(0.5, 1.0, 'At least 2 entries\\nTotal number of entries: 39211\\nTotal number of groups: 2489')"
      ]
     },
     "execution_count": 41,
     "metadata": {},
     "output_type": "execute_result"
    },
    {
     "data": {
      "image/png": "[encoded data removed]",
      "text/plain": [
       "<Figure size 432x288 with 1 Axes>"
      ]
     },
     "metadata": {
      "needs_background": "light"
     },
     "output_type": "display_data"
    }
   ],
   "source": [
    "num_entries = []\n",
    "over_x = []\n",
    "x = 2\n",
    "passed_uids_grouped_over_x = {}\n",
    "for key in passed_uids_grouped:\n",
    "    num_uids = len(passed_uids_grouped[key])\n",
    "    num_entries.append(num_uids)\n",
    "    if num_uids >= x:\n",
    "        over_x.append(num_uids)\n",
    "        passed_uids_grouped_over_x[key]=passed_uids_grouped[key]\n",
    "plt.hist(over_x, bins = 100, log = True)\n",
    "plt.xlabel('Number of entries in H-group')\n",
    "plt.ylabel('Number of H-groups with x entries')\n",
    "average = sum(over_x)/len(over_x)\n",
    "plt.title('At least 2 entries\\n'+'Total number of entries: '+str(sum(over_x)) + '\\n' +'Total number of groups: ' + str(len(over_x)))"
   ]
  },
  {
   "cell_type": "code",
   "execution_count": 48,
   "metadata": {},
   "outputs": [],
   "source": [
    "#passed_uids_grouped_over_x\n",
    "outdir = '/home/pbryant/data/CATH/h_grouped/below95_2.6Å_above2_grouped/'\n",
    "for group in passed_uids_grouped_over_x:\n",
    "    group_dir = outdir+group\n",
    "    os.mkdir(group_dir)\n",
    "    uids = passed_uids_grouped_over_x[group]\n",
    "    for uid in uids:\n",
    "        sequence = sequences[uid]\n",
    "        with open(group_dir+'/'+uid+'.fa', \"w\") as file:\n",
    "            file.write('>'+uid+'\\n')\n",
    "            i = 0 #index\n",
    "            while i<len(sequence):\n",
    "                file.write(sequence[i:i+60]+'\\n')\n",
    "                i+=60\n",
    "        \n"
   ]
  },
  {
   "cell_type": "code",
   "execution_count": 49,
   "metadata": {},
   "outputs": [
    {
     "data": {
      "image/png": "[encoded data removed]",
      "text/plain": [
       "<Figure size 432x288 with 1 Axes>"
      ]
     },
     "metadata": {
      "needs_background": "light"
     },
     "output_type": "display_data"
    },
    {
     "name": "stdout",
     "output_type": "stream",
     "text": [
      "Number of entries in groups with over 2, but under 15 entries: 9322\n",
      "Number of entries in groups with over 15 entries: 29889\n",
      "Number of groups with under 15 entries: 2102\n",
      "Number of groups with above 15 entries: 387\n"
     ]
    }
   ],
   "source": [
    "over_y = []\n",
    "under_y = []\n",
    "y = 15\n",
    "for i in over_x:\n",
    "    if i>y:\n",
    "        over_y.append(i)\n",
    "    else:\n",
    "        under_y.append(i)\n",
    "plt.hist(over_y, bins = 15, label = 'over 15 entries in H-group')\n",
    "plt.hist(under_y, bins = 10, label = '2-15 entries in H-group')\n",
    "plt.legend()\n",
    "plt.yscale('log')\n",
    "plt.xscale('log')\n",
    "plt.xlabel('Number of entries in H-group')\n",
    "plt.ylabel('Number of H-groups with x entries')\n",
    "plt.title('2-15 entries in H-group')\n",
    "plt.show()\n",
    "print('Number of entries in groups with over 2, but under 15 entries:',sum(under_y))\n",
    "print('Number of entries in groups with over 15 entries:',sum(over_y))\n",
    "print('Number of groups with under 15 entries:',len(under_y))\n",
    "print('Number of groups with above 15 entries:',len(over_y))"
   ]
  }
 ],
 "metadata": {
  "kernelspec": {
   "display_name": "Python 3",
   "language": "python",
   "name": "python3"
  },
  "language_info": {
   "codemirror_mode": {
    "name": "ipython",
    "version": 3
   },
   "file_extension": ".py",
   "mimetype": "text/x-python",
   "name": "python",
   "nbconvert_exporter": "python",
   "pygments_lexer": "ipython3",
   "version": "3.6.8"
  }
 },
 "nbformat": 4,
 "nbformat_minor": 2
}
