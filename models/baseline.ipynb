{
 "cells": [
  {
   "cell_type": "code",
   "execution_count": 2,
   "metadata": {},
   "outputs": [],
   "source": [
    "#Imports\n",
    "import sys\n",
    "import os\n",
    "import numpy as np\n",
    "from ast import literal_eval\n",
    "import pandas as pd\n",
    "\n",
    "from sklearn.model_selection import train_test_split\n",
    "from sklearn.metrics import classification_report, confusion_matrix\n",
    "from sklearn.ensemble import RandomForestClassifier, RandomForestRegressor, AdaBoostRegressor\n",
    "from collections import Counter\n",
    "\n",
    "from sklearn.linear_model import LinearRegression\n",
    "\n",
    "from model_inputs import split_on_h_group\n",
    "import matplotlib.pyplot as plt\n",
    "import seaborn as sns\n",
    "import tables\n",
    "import pdb"
   ]
  },
  {
   "cell_type": "code",
   "execution_count": 5,
   "metadata": {},
   "outputs": [],
   "source": [
    "#FUNCTIONS\n",
    "def count_aa(encoding):\n",
    "    '''Count differnt amino acid occurence in encoding\n",
    "    '''\n",
    "    counts = Counter(encoding)\n",
    "\n",
    "    aa_feature = []\n",
    "    for i in range(0,22):\n",
    "        if i in counts.keys():\n",
    "            aa_feature.append(counts[i])\n",
    "        else:\n",
    "            aa_feature.append(0)\n",
    "\n",
    "    return aa_feature\n",
    "\n",
    "\n",
    "def create_features(df):\n",
    "    '''Get features\n",
    "    '''\n",
    "    #Get MLAAdist\n",
    "    evdist = np.asarray(df['MLAAdist_x'])\n",
    "\n",
    "    #Get encodings\n",
    "    enc1 = []\n",
    "    enc2 = []\n",
    "    [enc1.append(literal_eval(x)) for x in df['enc1']]\n",
    "    [enc2.append(literal_eval(x)) for x in df['enc2']]\n",
    "    #Get lengths\n",
    "    l1 = np.asarray(df['l1'])\n",
    "    l2 = np.asarray(df['l2'])\n",
    "    aln_len = np.asarray(df['aln_len'])\n",
    "    #Get starts and ends\n",
    "    s1 = np.asarray(df['s1'])\n",
    "    s2 = np.asarray(df['s2'])\n",
    "    e1 = np.asarray(df['e1'])\n",
    "    e2 = np.asarray(df['e2'])\n",
    "\n",
    "    #Save features\n",
    "    enc_feature = []\n",
    "\n",
    "\n",
    "    for i in range(0, len(enc1)):\n",
    "        enc_feature.append(count_aa(enc1[i])) #Append to list\n",
    "        enc_feature[i].extend(count_aa(enc2[i])) #Extend \n",
    "        enc_feature[i].append(l1[i])\n",
    "        enc_feature[i].append(l2[i])        \n",
    "        enc_feature[i].append(aln_len[i])\n",
    "        enc_feature[i].append(evdist[i])\n",
    "        enc_feature[i].append(s1[i])\n",
    "        enc_feature[i].append(s2[i])\n",
    "        enc_feature[i].append(e1[i])\n",
    "        enc_feature[i].append(e2[i])\n",
    "     \n",
    "   #Get RMSDs\n",
    "    rmsds = df['RMSD_x']\n",
    "    bins = np.arange(0,4.5,0.1)\n",
    "    #bins = np.arange(0.5,2.5,0.05)\n",
    "    #bins = np.insert(bins,0, 0)\n",
    "    #bins = np.append(bins, 4.5)\n",
    "    #Bin the TMscore RMSDs\n",
    "    binned_rmsds = np.digitize(rmsds, bins)\n",
    "\n",
    "    #Data\n",
    "    X = np.asarray(enc_feature)\n",
    "    y = np.asarray(rmsds)\n",
    "    y_binned = np.asarray(binned_rmsds) \n",
    "    return(X, y, y_binned)"
   ]
  },
  {
   "cell_type": "code",
   "execution_count": 4,
   "metadata": {},
   "outputs": [
    {
     "data": {
      "text/plain": [
       "Index(['uid1', 'uid2', 'MLAAdist_x', 'RMSD_x', 'TMscore', 'H_group_x', 'C._x',\n",
       "       'C.A._x', 'MLAAdist_y', 'RMSD_y', 'TMscore_high', 'TMscore_low',\n",
       "       'H_group_y', 'C._y', 'C.A._y', 'aln_len', 'identity', 'lse1', 'lse2',\n",
       "       'encoding', 'deviation', 'l1', 'l2', 's1', 's2', 'e1', 'e2',\n",
       "       'binned_deviation', 'enc1', 'enc2'],\n",
       "      dtype='object')"
      ]
     },
     "execution_count": 4,
     "metadata": {},
     "output_type": "execute_result"
    }
   ],
   "source": [
    "complete_df.columns"
   ]
  },
  {
   "cell_type": "code",
   "execution_count": 156,
   "metadata": {},
   "outputs": [],
   "source": [
    "#Read df\n",
    "complete_df = pd.read_csv('/home/pbryant/evolution/visual/complete_df.csv')\n",
    "#Split\n",
    "train_groups, valid_groups, test_groups = split_on_h_group(complete_df, 0.8)\n",
    "train_df = complete_df[complete_df['H_group_x'].isin(train_groups)]\n",
    "valid_df = complete_df[complete_df['H_group_x'].isin(valid_groups)]\n",
    "test_df = complete_df[complete_df['H_group_x'].isin(test_groups)]"
   ]
  },
  {
   "cell_type": "code",
   "execution_count": 7,
   "metadata": {},
   "outputs": [],
   "source": [
    "X_train,y_train, y_train_binned = create_features(train_df)\n",
    "X_valid,y_valid, y_valid_binned = create_features(valid_df)"
   ]
  },
  {
   "cell_type": "code",
   "execution_count": 6,
   "metadata": {},
   "outputs": [
    {
     "name": "stdout",
     "output_type": "stream",
     "text": [
      "0.29990743494657146\n"
     ]
    }
   ],
   "source": [
    "#Compare with linear regression\n",
    "reg = LinearRegression().fit(np.asarray(complete_df['MLAAdist_x']).reshape(-1,1), complete_df['RMSD_x'])\n",
    "reg_predictions = reg.predict(np.asarray(complete_df['MLAAdist_x']).reshape(-1,1))\n",
    "average_error = np.average(np.absolute(reg_predictions-complete_df['RMSD_x']))\n",
    "print(average_error)"
   ]
  },
  {
   "cell_type": "code",
   "execution_count": 12,
   "metadata": {},
   "outputs": [
    {
     "name": "stdout",
     "output_type": "stream",
     "text": [
      "0.27216742202079447\n"
     ]
    }
   ],
   "source": [
    "#RandomForestClassifier\n",
    "clf = RandomForestClassifier(n_estimators=100, bootstrap = True, max_features = 'sqrt')\n",
    "\n",
    "# Fit on training data\n",
    "clf.fit(X_train, y_train_binned)\n",
    "\n",
    "#predict\n",
    "clf_predictions = clf.predict(X_valid)\n",
    "\n",
    "#Average error\n",
    "average_error = np.average(np.absolute(clf_predictions-y_valid_binned))\n",
    "print(average_error*0.1)\n"
   ]
  },
  {
   "cell_type": "code",
   "execution_count": 8,
   "metadata": {},
   "outputs": [
    {
     "name": "stdout",
     "output_type": "stream",
     "text": [
      "0.2562427414911579\n",
      "0.2570243401759531\n"
     ]
    }
   ],
   "source": [
    "#RandomForestRegressor\n",
    "clf = RandomForestRegressor(n_estimators=100, bootstrap = True, max_features = 'sqrt')\n",
    "\n",
    "# Fit on training data\n",
    "clf.fit(X_train, y_train)\n",
    "\n",
    "#predict\n",
    "clf_predictions = clf.predict(X_valid)\n",
    "\n",
    "#Average error\n",
    "average_error = np.average(np.absolute(clf_predictions-y_valid))\n",
    "print(average_error)\n",
    "\n",
    "#Binned fitting\n",
    "# Fit on training data\n",
    "clf.fit(X_train, y_train_binned)\n",
    "\n",
    "#predict\n",
    "clf_predictions = clf.predict(X_valid)\n",
    "\n",
    "#Average error\n",
    "average_error = np.average(np.absolute(clf_predictions-y_valid_binned))\n",
    "print(average_error*0.1)"
   ]
  },
  {
   "cell_type": "code",
   "execution_count": 45,
   "metadata": {
    "scrolled": true
   },
   "outputs": [],
   "source": [
    "importances = clf.feature_importances_\n",
    "#importances = -np.log(importances)"
   ]
  },
  {
   "cell_type": "code",
   "execution_count": 46,
   "metadata": {},
   "outputs": [
    {
     "data": {
      "image/png": "[encoded data removed]",
      "text/plain": [
       "<Figure size 1368x595.44 with 1 Axes>"
      ]
     },
     "metadata": {},
     "output_type": "display_data"
    }
   ],
   "source": [
    "labels = ['A', 'R', 'N', 'D', 'C', 'E', 'Q', 'G', 'H', 'I', 'L', 'K', 'M', 'F', 'P', 'S', 'T', 'W', 'Y', 'V', 'X', '-', 'A', 'R', 'N', 'D', 'C', 'E', 'Q', 'G', 'H', 'I', 'L', 'K', 'M', 'F', 'P', 'S', 'T', 'W', 'Y', 'V', 'X', '-', 'l1', 'l2', 'aln_len', 'evdist','s1', 's2', 'e1', 'e2']\n",
    "imp_df = pd.DataFrame({'lab':labels, 'importance':importances})\n",
    "sns.barplot(x='lab', y='importance', data = imp_df)\n",
    "sns.set(rc={'figure.figsize':(19,8.27)})\n",
    "plt.show()"
   ]
  },
  {
   "cell_type": "code",
   "execution_count": 47,
   "metadata": {},
   "outputs": [
    {
     "data": {
      "image/png": "[encoded data removed]",
      "text/plain": [
       "<Figure size 1368x595.44 with 1 Axes>"
      ]
     },
     "metadata": {},
     "output_type": "display_data"
    }
   ],
   "source": [
    "#It looks like Leucine, gaps, lengths of sequences and alignment as well as the evdist are the important features\n",
    "importances_s = [importances[10],importances[21],importances[32],importances[43],importances[44],importances[45],importances[46],importances[47],importances[48],importances[49],importances[50],importances[51]]\n",
    "labels = ['L', '-', 'L', '-', 'l1', 'l2', 'aln_len', 'evdist','s1', 's2', 'e1', 'e2']\n",
    "imp_df = pd.DataFrame({'lab':labels, 'val':importances_s})\n",
    "sns.barplot(x='lab', y='val', data = imp_df)\n",
    "sns.set(rc={'figure.figsize':(19,8.27)})\n",
    "plt.show()"
   ]
  },
  {
   "cell_type": "code",
   "execution_count": 48,
   "metadata": {},
   "outputs": [
    {
     "data": {
      "text/plain": [
       "<matplotlib.axes._subplots.AxesSubplot at 0x7fc37c226da0>"
      ]
     },
     "execution_count": 48,
     "metadata": {},
     "output_type": "execute_result"
    },
    {
     "data": {
      "image/png": "[encoded data removed]",
      "text/plain": [
       "<Figure size 1368x595.44 with 1 Axes>"
      ]
     },
     "metadata": {},
     "output_type": "display_data"
    }
   ],
   "source": [
    "imp_df.plot.bar(x='lab', y='val',rot=0)"
   ]
  },
  {
   "cell_type": "code",
   "execution_count": 49,
   "metadata": {},
   "outputs": [
    {
     "name": "stdout",
     "output_type": "stream",
     "text": [
      "0.2967062716497958\n",
      "0.2943713238756529\n"
     ]
    }
   ],
   "source": [
    "#Adaboost\n",
    "clf = AdaBoostRegressor(random_state=0, n_estimators=7) #int asssignment of random state ensures same random intitator each run\n",
    "# Fit on training data\n",
    "clf.fit(X_train, y_train)\n",
    "\n",
    "#predict\n",
    "clf_predictions = clf.predict(X_valid)\n",
    "\n",
    "#Average error\n",
    "average_error = np.average(np.absolute(clf_predictions-y_valid))\n",
    "print(average_error)\n",
    "\n",
    "#Binned fitting\n",
    "# Fit on training data\n",
    "clf.fit(X_train, y_train_binned)\n",
    "\n",
    "#predict\n",
    "clf_predictions = clf.predict(X_valid)\n",
    "\n",
    "#Average error\n",
    "average_error = np.average(np.absolute(clf_predictions-y_valid_binned))\n",
    "print(average_error*0.1)\n"
   ]
  },
  {
   "cell_type": "code",
   "execution_count": 3,
   "metadata": {},
   "outputs": [],
   "source": [
    "#Using PROFILE representations of alignments\n",
    "#Read df\n",
    "complete_with_hmm_df = pd.read_csv('/home/pbryant/results/CATH/20190606/complete_with_hmm_df.csv')"
   ]
  },
  {
   "cell_type": "code",
   "execution_count": 4,
   "metadata": {},
   "outputs": [
    {
     "data": {
      "text/plain": [
       "Index(['Unnamed: 0', 'uid1', 'uid2', 'MLAAdist_x', 'RMSD_x', 'TMscore',\n",
       "       'H_group_x', 'C._x', 'C.A._x', 'MLAAdist_y', 'RMSD_y', 'TMscore_high',\n",
       "       'TMscore_low', 'H_group_y', 'C._y', 'C.A._y', 'aln_len', 'identity',\n",
       "       'lse1', 'lse2', 'encoding', 'deviation', 'l1', 'l2', 's1', 's2', 'e1',\n",
       "       'e2', 'binned_deviation', 'enc1', 'enc2', 'hmm_list1', 'hmm_list2',\n",
       "       'transition_freq1', 'transition_freq2', 'local_div1', 'local_div2'],\n",
       "      dtype='object')"
      ]
     },
     "execution_count": 4,
     "metadata": {},
     "output_type": "execute_result"
    }
   ],
   "source": [
    "complete_with_hmm_df.columns"
   ]
  },
  {
   "cell_type": "code",
   "execution_count": 72,
   "metadata": {},
   "outputs": [],
   "source": [
    "def save_nparray(H_group_data, group, column):\n",
    "    index = H_group_data.index\n",
    "    for i in range(index[0], index[-1]+1):\n",
    "        uid1 = H_group_data['uid1'][i]\n",
    "        uid2 = H_group_data['uid2'][i]\n",
    "        name = '/home/pbryant/results/CATH/20190606/'+group+'/'+uid1+'_'+uid2+'.'+column+'.txt'\n",
    "        t1 = hmm_to_array(H_group_data[column][i])\n",
    "        np.savetxt(name, t1, fmt='%d')\n",
    "\n",
    "\n",
    "def hmm_to_array(tx):\n",
    "    '''Convert hmm to array, replace * with 0\n",
    "    '''\n",
    "    tx = literal_eval(tx)\n",
    "    for i in range(0,len(tx)):\n",
    "        for j in range(0, len(tx[i])):\n",
    "            if tx[i][j] == '*':\n",
    "                tx[i][j] = 0\n",
    "            else:\n",
    "                tx[i][j] = int(tx[i][j])\n",
    "            np.asarray(tx[i])\n",
    "    return(np.asarray(tx))\n"
   ]
  },
  {
   "cell_type": "code",
   "execution_count": 48,
   "metadata": {},
   "outputs": [],
   "source": [
    "groups = Counter(complete_with_hmm_df['H_group_x'])\n",
    "groups = [*groups.keys()]\n",
    "for group in groups:\n",
    "    os.mkdir('/home/pbryant/results/CATH/20190606/'+group)\n",
    "    H_group_data =  complete_with_hmm_df[complete_with_hmm_df['H_group_x']==group]\n",
    "    save_nparray(H_group_data, group)"
   ]
  },
  {
   "cell_type": "code",
   "execution_count": 51,
   "metadata": {},
   "outputs": [],
   "source": [
    "#hmm2\n",
    "for group in groups:\n",
    "    H_group_data =  complete_with_hmm_df[complete_with_hmm_df['H_group_x']==group]\n",
    "    save_nparray(H_group_data, group, 'hmm_list2')"
   ]
  },
  {
   "cell_type": "code",
   "execution_count": null,
   "metadata": {},
   "outputs": [],
   "source": [
    "#Transition frequencies and local divergences\n",
    "columns = ['transition_freq1', 'transition_freq2', 'local_div1', 'local_div2']\n",
    "for column in columns:\n",
    "    for group in groups:\n",
    "        H_group_data =  complete_with_hmm_df[complete_with_hmm_df['H_group_x']==group]\n",
    "        save_nparray(H_group_data, group, column)"
   ]
  },
  {
   "cell_type": "code",
   "execution_count": 62,
   "metadata": {},
   "outputs": [],
   "source": [
    "#LOAD\n",
    "hmm1 = {}\n",
    "base = '/home/pbryant/results/CATH/20190606/'\n",
    "for group in groups:\n",
    "    H_group_data = complete_with_hmm_df[complete_with_hmm_df['H_group_x']==group]\n",
    "    uid1 = [*H_group_data['uid1']]\n",
    "    uid2 = [*H_group_data['uid2']]\n",
    "    for i in range(0,len(uid1)):\n",
    "        name = uid1[i]+'_'+uid2[i]\n",
    "        c = np.loadtxt(base+group+'/'+name+'.hmm1.txt', dtype=int)\n",
    "        hmm1[name] = c\n",
    "\n"
   ]
  },
  {
   "cell_type": "code",
   "execution_count": null,
   "metadata": {},
   "outputs": [],
   "source": []
  },
  {
   "cell_type": "code",
   "execution_count": 68,
   "metadata": {},
   "outputs": [
    {
     "data": {
      "text/plain": [
       "211"
      ]
     },
     "execution_count": 68,
     "metadata": {},
     "output_type": "execute_result"
    }
   ],
   "source": [
    "len(hmm1['5ej3A00_2vg9A00'])"
   ]
  },
  {
   "cell_type": "code",
   "execution_count": 71,
   "metadata": {},
   "outputs": [],
   "source": [
    "#Convert * to 0 and rest to ints\n",
    "for i in range(0, len(hmm_list1)):\n",
    "    item = hmm_list1[i]\n",
    "    for j in range(0, len(item)):\n",
    "        for k in range(0, len(item[j])):\n",
    "            if item[j][k] == '*':\n",
    "                item[j][k] = 0\n",
    "            else:\n",
    "                item[j][k] = int(item[j][k])\n",
    "           \n",
    "    hmm_list1[i] = np.asarray(item)\n",
    "hmm_list1 = np.asarray(hmm_list1)"
   ]
  },
  {
   "cell_type": "code",
   "execution_count": 76,
   "metadata": {},
   "outputs": [
    {
     "name": "stdout",
     "output_type": "stream",
     "text": [
      "/._v_attrs (AttributeSet), 5 attributes\n",
      "['CLASS', 'FILTERS', 'PYTABLES_FORMAT_VERSION', 'TITLE', 'VERSION', '__class__', '__contains__', '__delattr__', '__delitem__', '__dict__', '__dir__', '__doc__', '__eq__', '__format__', '__ge__', '__getattr__', '__getattribute__', '__getitem__', '__gt__', '__hash__', '__init__', '__init_subclass__', '__le__', '__lt__', '__module__', '__ne__', '__new__', '__reduce__', '__reduce_ex__', '__repr__', '__setattr__', '__setitem__', '__setstate__', '__sizeof__', '__str__', '__subclasshook__', '__weakref__', '_f_copy', '_f_list', '_f_rename', '_g__delattr', '_g__setattr', '_g_close', '_g_copy', '_g_del_and_log', '_g_getattr', '_g_getnode', '_g_list_attr', '_g_log_add', '_g_new', '_g_remove', '_g_setattr', '_g_update_node_location', '_v__format_version', '_v__nodefile', '_v__nodepath', '_v_attrnames', '_v_attrnamessys', '_v_attrnamesuser', '_v_node', '_v_unimplemented']\n"
     ]
    }
   ],
   "source": [
    "h5.close()\n",
    "h5 = tables.open_file('file.h5', 'w', filters=tables.Filters(9, 'blosc:snappy'))\n",
    "\n",
    "# Add some data\n",
    "h5.create_carray(h5.root, 'name', obj=hmm_list1[0])\n",
    "\n",
    "# Create a group (~folder) and put stuff inside\n",
    "group = h5.create_group(h5.root,'H_group')\n",
    "#h5.create_carray(group, 'other_name', obj=np.random.random((200,32)).astype(np.float32))\n",
    "\n",
    "# A string:\n",
    "\n",
    "#h5.create_carray(group, 'sequence', obj=np.array(list('PEPTIDE')))\n",
    "\n",
    "# Adding metadata:\n",
    "#h5.root._v_attrs['whatever'] = 'platypus'\n",
    "#group._v_attrs['other_info'] = ':P'\n",
    "h5.close()\n",
    "\n",
    "h5 = tables.open_file('file.h5')\n",
    "print(h5.root._v_attrs)\n",
    "print(dir(h5.root._v_attrs))\n"
   ]
  },
  {
   "cell_type": "code",
   "execution_count": 3,
   "metadata": {},
   "outputs": [],
   "source": [
    "#Split\n",
    "train_groups, valid_groups, test_groups = split_on_h_group(complete_with_hmm_df, 0.8)"
   ]
  }
 ],
 "metadata": {
  "kernelspec": {
   "display_name": "Python 3",
   "language": "python",
   "name": "python3"
  },
  "language_info": {
   "codemirror_mode": {
    "name": "ipython",
    "version": 3
   },
   "file_extension": ".py",
   "mimetype": "text/x-python",
   "name": "python",
   "nbconvert_exporter": "python",
   "pygments_lexer": "ipython3",
   "version": "3.6.8"
  }
 },
 "nbformat": 4,
 "nbformat_minor": 2
}
