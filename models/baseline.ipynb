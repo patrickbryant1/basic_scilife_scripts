{
 "cells": [
  {
   "cell_type": "code",
   "execution_count": 1,
   "metadata": {},
   "outputs": [],
   "source": [
    "#Imports\n",
    "import sys\n",
    "import os\n",
    "import numpy as np\n",
    "from ast import literal_eval\n",
    "import pandas as pd\n",
    "\n",
    "from sklearn.model_selection import train_test_split\n",
    "from sklearn.metrics import classification_report, confusion_matrix\n",
    "from sklearn.ensemble import RandomForestClassifier, RandomForestRegressor, AdaBoostRegressor\n",
    "from collections import Counter\n",
    "\n",
    "from sklearn.linear_model import LinearRegression\n",
    "\n",
    "from model_inputs import split_on_h_group\n",
    "import matplotlib.pyplot as plt\n",
    "import seaborn as sns\n",
    "import tables\n",
    "import time\n",
    "\n",
    "import pdb"
   ]
  },
  {
   "cell_type": "code",
   "execution_count": 2,
   "metadata": {},
   "outputs": [],
   "source": [
    "#FUNCTIONS\n",
    "def count_aa(encoding):\n",
    "    '''Count differnt amino acid occurence in encoding\n",
    "    '''\n",
    "    counts = Counter(encoding)\n",
    "\n",
    "    aa_feature = []\n",
    "    for i in range(0,22):\n",
    "        if i in counts.keys():\n",
    "            aa_feature.append(counts[i])\n",
    "        else:\n",
    "            aa_feature.append(0)\n",
    "    \n",
    "    aa_feature = np.asarray(aa_feature)\n",
    "    aa_feature = aa_feature/len(encoding)\n",
    "    aa_feature = aa_feature.tolist()\n",
    "    return aa_feature\n",
    "\n",
    "\n",
    "def create_features(df):\n",
    "    '''Get features\n",
    "    '''\n",
    "    #Get MLAAdist\n",
    "    evdist = np.asarray(df['MLAAdist_x'])\n",
    "\n",
    "    #Get encodings\n",
    "    enc1 = []\n",
    "    enc2 = []\n",
    "    [enc1.append(literal_eval(x)) for x in df['enc1']]\n",
    "    [enc2.append(literal_eval(x)) for x in df['enc2']]\n",
    "    #Get lengths\n",
    "    l1 = np.asarray(df['l1'])\n",
    "    l2 = np.asarray(df['l2'])\n",
    "    aln_len = np.asarray(df['aln_len'])\n",
    "    #Get starts and ends\n",
    "    s1 = np.asarray(df['s1'])\n",
    "    s2 = np.asarray(df['s2'])\n",
    "    e1 = np.asarray(df['e1'])\n",
    "    e2 = np.asarray(df['e2'])\n",
    "\n",
    "    #Save features\n",
    "    enc_feature = []\n",
    "\n",
    "\n",
    "    for i in range(0, len(enc1)):\n",
    "        enc_feature.append(count_aa(enc1[i])) #Append to list\n",
    "        enc_feature[i].extend(count_aa(enc2[i])) #Extend \n",
    "        enc_feature[i].append(l1[i])\n",
    "        enc_feature[i].append(l2[i])        \n",
    "        enc_feature[i].append(aln_len[i])\n",
    "        enc_feature[i].append(evdist[i])\n",
    "        enc_feature[i].append(s1[i])\n",
    "        enc_feature[i].append(s2[i])\n",
    "        enc_feature[i].append(e1[i])\n",
    "        enc_feature[i].append(e2[i])\n",
    "     \n",
    "   #Get RMSDs\n",
    "    rmsds = df['RMSD_x']\n",
    "    rmsds = np.asarray(rmsds)/4.5\n",
    "    bins = np.arange(0,4.5,0.1)\n",
    "    #bins = np.arange(0.5,2.5,0.05)\n",
    "    #bins = np.insert(bins,0, 0)\n",
    "    #bins = np.append(bins, 4.5)\n",
    "    #Bin the TMscore RMSDs\n",
    "    binned_rmsds = np.digitize(rmsds, bins)\n",
    "\n",
    "    #Data\n",
    "    X = np.asarray(enc_feature)\n",
    "    y = np.asarray(rmsds)\n",
    "    y_binned = np.asarray(binned_rmsds) \n",
    "    return(X, y, y_binned)"
   ]
  },
  {
   "cell_type": "code",
   "execution_count": 3,
   "metadata": {},
   "outputs": [],
   "source": [
    "#Read df\n",
    "complete_df = pd.read_csv('/home/pbryant/evolution/visual/complete_df.csv')\n",
    "#Split\n",
    "train_groups, valid_groups, test_groups = split_on_h_group(complete_df, 0.8)\n",
    "train_df = complete_df[complete_df['H_group_x'].isin(train_groups)]\n",
    "valid_df = complete_df[complete_df['H_group_x'].isin(valid_groups)]\n",
    "test_df = complete_df[complete_df['H_group_x'].isin(test_groups)]"
   ]
  },
  {
   "cell_type": "code",
   "execution_count": 5,
   "metadata": {},
   "outputs": [],
   "source": [
    "X_train,y_train, y_train_binned = create_features(train_df)\n",
    "X_valid,y_valid, y_valid_binned = create_features(valid_df)"
   ]
  },
  {
   "cell_type": "code",
   "execution_count": 86,
   "metadata": {},
   "outputs": [
    {
     "data": {
      "text/plain": [
       "array([5.44217687e-02, 3.40136054e-02, 3.40136054e-02, 8.84353741e-02,\n",
       "       6.80272109e-03, 4.08163265e-02, 4.08163265e-02, 5.44217687e-02,\n",
       "       2.72108844e-02, 5.44217687e-02, 1.02040816e-01, 8.16326531e-02,\n",
       "       4.76190476e-02, 2.04081633e-02, 2.04081633e-02, 3.40136054e-02,\n",
       "       4.76190476e-02, 0.00000000e+00, 1.36054422e-02, 9.52380952e-02,\n",
       "       0.00000000e+00, 1.02040816e-01, 2.72108844e-02, 4.08163265e-02,\n",
       "       3.40136054e-02, 7.48299320e-02, 1.36054422e-02, 1.08843537e-01,\n",
       "       1.36054422e-02, 4.08163265e-02, 2.72108844e-02, 6.12244898e-02,\n",
       "       1.22448980e-01, 4.08163265e-02, 2.04081633e-02, 4.76190476e-02,\n",
       "       4.08163265e-02, 6.12244898e-02, 6.12244898e-02, 0.00000000e+00,\n",
       "       2.72108844e-02, 9.52380952e-02, 0.00000000e+00, 4.08163265e-02,\n",
       "       1.35000000e+02, 1.50000000e+02, 1.26000000e+02, 2.86903000e+00,\n",
       "       1.00000000e+00, 1.00000000e+01, 1.32000000e+02, 1.50000000e+02])"
      ]
     },
     "execution_count": 86,
     "metadata": {},
     "output_type": "execute_result"
    }
   ],
   "source": [
    "X_train[0]"
   ]
  },
  {
   "cell_type": "code",
   "execution_count": 6,
   "metadata": {},
   "outputs": [
    {
     "name": "stdout",
     "output_type": "stream",
     "text": [
      "0.29990743494657146\n"
     ]
    }
   ],
   "source": [
    "#Compare with linear regression\n",
    "reg = LinearRegression().fit(np.asarray(complete_df['MLAAdist_x']).reshape(-1,1), complete_df['RMSD_x'])\n",
    "reg_predictions = reg.predict(np.asarray(complete_df['MLAAdist_x']).reshape(-1,1))\n",
    "average_error = np.average(np.absolute(reg_predictions-complete_df['RMSD_x']))\n",
    "print(average_error)"
   ]
  },
  {
   "cell_type": "code",
   "execution_count": 12,
   "metadata": {},
   "outputs": [
    {
     "name": "stdout",
     "output_type": "stream",
     "text": [
      "0.27216742202079447\n"
     ]
    }
   ],
   "source": [
    "#RandomForestClassifier\n",
    "clf = RandomForestClassifier(n_estimators=100, bootstrap = True, max_features = 'sqrt')\n",
    "\n",
    "# Fit on training data\n",
    "clf.fit(X_train, y_train_binned)\n",
    "\n",
    "#predict\n",
    "clf_predictions = clf.predict(X_valid)\n",
    "\n",
    "#Average error\n",
    "average_error = np.average(np.absolute(clf_predictions-y_valid_binned))\n",
    "print(average_error*0.1)\n"
   ]
  },
  {
   "cell_type": "code",
   "execution_count": 87,
   "metadata": {},
   "outputs": [
    {
     "name": "stdout",
     "output_type": "stream",
     "text": [
      "0.25882280591842177\n",
      "0.2593709677419355\n"
     ]
    }
   ],
   "source": [
    "#RandomForestRegressor\n",
    "clf = RandomForestRegressor(n_estimators=100, bootstrap = True, max_features = 'sqrt')\n",
    "\n",
    "# Fit on training data\n",
    "clf.fit(X_train, y_train)\n",
    "\n",
    "#predict\n",
    "clf_predictions = clf.predict(X_valid)\n",
    "\n",
    "#Average error\n",
    "average_error = np.average(np.absolute(clf_predictions-y_valid))\n",
    "print(average_error)\n",
    "\n",
    "#Binned fitting\n",
    "# Fit on training data\n",
    "clf.fit(X_train, y_train_binned)\n",
    "\n",
    "#predict\n",
    "clf_predictions = clf.predict(X_valid)\n",
    "\n",
    "#Average error\n",
    "average_error = np.average(np.absolute(clf_predictions-y_valid_binned))\n",
    "print(average_error*0.1)"
   ]
  },
  {
   "cell_type": "code",
   "execution_count": 88,
   "metadata": {
    "scrolled": true
   },
   "outputs": [],
   "source": [
    "importances = clf.feature_importances_\n",
    "#importances = -np.log(importances)"
   ]
  },
  {
   "cell_type": "code",
   "execution_count": 90,
   "metadata": {},
   "outputs": [
    {
     "data": {
      "image/png": "[encoded data removed]",
      "text/plain": [
       "<Figure size 1368x595.44 with 1 Axes>"
      ]
     },
     "metadata": {},
     "output_type": "display_data"
    }
   ],
   "source": [
    "labels = ['A', 'R', 'N', 'D', 'C', 'E', 'Q', 'G', 'H', 'I', 'L', 'K', 'M', 'F', 'P', 'S', 'T', 'W', 'Y', 'V', 'X', '-', 'A', 'R', 'N', 'D', 'C', 'E', 'Q', 'G', 'H', 'I', 'L', 'K', 'M', 'F', 'P', 'S', 'T', 'W', 'Y', 'V', 'X', '-', 'l1', 'l2', 'aln_len', 'evdist','s1', 's2', 'e1', 'e2']\n",
    "imp_df = pd.DataFrame({'lab':labels, 'importance':importances})\n",
    "sns.barplot(x='lab', y='importance', data = imp_df)\n",
    "sns.set(rc={'figure.figsize':(19,8.27)})\n",
    "plt.show()"
   ]
  },
  {
   "cell_type": "code",
   "execution_count": 91,
   "metadata": {},
   "outputs": [
    {
     "data": {
      "image/png": "[encoded data removed]",
      "text/plain": [
       "<Figure size 1368x595.44 with 1 Axes>"
      ]
     },
     "metadata": {},
     "output_type": "display_data"
    }
   ],
   "source": [
    "#It looks like Leucine, gaps, lengths of sequences and alignment as well as the evdist are the important features\n",
    "importances_s = [importances[10],importances[21],importances[32],importances[43],importances[44],importances[45],importances[46],importances[47],importances[48],importances[49],importances[50],importances[51]]\n",
    "labels = ['L', '-', 'L', '-', 'l1', 'l2', 'aln_len', 'evdist','s1', 's2', 'e1', 'e2']\n",
    "imp_df = pd.DataFrame({'lab':labels, 'val':importances_s})\n",
    "sns.barplot(x='lab', y='val', data = imp_df)\n",
    "sns.set(rc={'figure.figsize':(19,8.27)})\n",
    "plt.show()"
   ]
  },
  {
   "cell_type": "code",
   "execution_count": 48,
   "metadata": {},
   "outputs": [
    {
     "data": {
      "text/plain": [
       "<matplotlib.axes._subplots.AxesSubplot at 0x7fc37c226da0>"
      ]
     },
     "execution_count": 48,
     "metadata": {},
     "output_type": "execute_result"
    },
    {
     "data": {
      "image/png": "[encoded data removed]",
      "text/plain": [
       "<Figure size 1368x595.44 with 1 Axes>"
      ]
     },
     "metadata": {},
     "output_type": "display_data"
    }
   ],
   "source": [
    "imp_df.plot.bar(x='lab', y='val',rot=0)"
   ]
  },
  {
   "cell_type": "code",
   "execution_count": 49,
   "metadata": {},
   "outputs": [
    {
     "name": "stdout",
     "output_type": "stream",
     "text": [
      "0.2967062716497958\n",
      "0.2943713238756529\n"
     ]
    }
   ],
   "source": [
    "#Adaboost\n",
    "clf = AdaBoostRegressor(random_state=0, n_estimators=7) #int asssignment of random state ensures same random intitator each run\n",
    "# Fit on training data\n",
    "clf.fit(X_train, y_train)\n",
    "\n",
    "#predict\n",
    "clf_predictions = clf.predict(X_valid)\n",
    "\n",
    "#Average error\n",
    "average_error = np.average(np.absolute(clf_predictions-y_valid))\n",
    "print(average_error)\n",
    "\n",
    "#Binned fitting\n",
    "# Fit on training data\n",
    "clf.fit(X_train, y_train_binned)\n",
    "\n",
    "#predict\n",
    "clf_predictions = clf.predict(X_valid)\n",
    "\n",
    "#Average error\n",
    "average_error = np.average(np.absolute(clf_predictions-y_valid_binned))\n",
    "print(average_error*0.1)\n"
   ]
  },
  {
   "cell_type": "code",
   "execution_count": 3,
   "metadata": {},
   "outputs": [],
   "source": [
    "#Using PROFILE representations of alignments\n",
    "#Read df\n",
    "complete_with_hmm_df = pd.read_csv('/home/pbryant/results/CATH/20190606/complete_with_hmm_df.csv')"
   ]
  },
  {
   "cell_type": "code",
   "execution_count": 72,
   "metadata": {},
   "outputs": [],
   "source": [
    "def save_nparray(H_group_data, group, column):\n",
    "    index = H_group_data.index\n",
    "    for i in range(index[0], index[-1]+1):\n",
    "        uid1 = H_group_data['uid1'][i]\n",
    "        uid2 = H_group_data['uid2'][i]\n",
    "        name = '/home/pbryant/results/CATH/20190606/'+group+'/'+uid1+'_'+uid2+'.'+column+'.txt'\n",
    "        t1 = hmm_to_array(H_group_data[column][i])\n",
    "        np.savetxt(name, t1, fmt='%d')\n",
    "\n",
    "\n",
    "def hmm_to_array(tx):\n",
    "    '''Convert hmm to array, replace * with 0\n",
    "    '''\n",
    "    tx = literal_eval(tx)\n",
    "    for i in range(0,len(tx)):\n",
    "        for j in range(0, len(tx[i])):\n",
    "            if tx[i][j] == '*':\n",
    "                tx[i][j] = 0\n",
    "            else:\n",
    "                tx[i][j] = int(tx[i][j])\n",
    "            np.asarray(tx[i])\n",
    "    return(np.asarray(tx))\n"
   ]
  },
  {
   "cell_type": "code",
   "execution_count": 48,
   "metadata": {},
   "outputs": [],
   "source": [
    "groups = Counter(complete_with_hmm_df['H_group_x'])\n",
    "groups = [*groups.keys()]\n",
    "for group in groups:\n",
    "    os.mkdir('/home/pbryant/results/CATH/20190606/'+group)\n",
    "    H_group_data =  complete_with_hmm_df[complete_with_hmm_df['H_group_x']==group]\n",
    "    save_nparray(H_group_data, group)"
   ]
  },
  {
   "cell_type": "code",
   "execution_count": 51,
   "metadata": {},
   "outputs": [],
   "source": [
    "#hmm2\n",
    "for group in groups:\n",
    "    H_group_data =  complete_with_hmm_df[complete_with_hmm_df['H_group_x']==group]\n",
    "    save_nparray(H_group_data, group, 'hmm_list2')"
   ]
  },
  {
   "cell_type": "code",
   "execution_count": 73,
   "metadata": {},
   "outputs": [],
   "source": [
    "#Transition frequencies and local divergences\n",
    "columns = ['transition_freq1', 'transition_freq2', 'local_div1', 'local_div2']\n",
    "for column in columns:\n",
    "    for group in groups:\n",
    "        H_group_data =  complete_with_hmm_df[complete_with_hmm_df['H_group_x']==group]\n",
    "        save_nparray(H_group_data, group, column)"
   ]
  },
  {
   "cell_type": "code",
   "execution_count": 62,
   "metadata": {},
   "outputs": [],
   "source": [
    "#LOAD\n",
    "hmm1 = {}\n",
    "base = '/home/pbryant/results/CATH/20190606/'\n",
    "for group in groups:\n",
    "    H_group_data = complete_with_hmm_df[complete_with_hmm_df['H_group_x']==group]\n",
    "    uid1 = [*H_group_data['uid1']]\n",
    "    uid2 = [*H_group_data['uid2']]\n",
    "    for i in range(0,len(uid1)):\n",
    "        name = uid1[i]+'_'+uid2[i]\n",
    "        c = np.loadtxt(base+group+'/'+name+'.hmm1.txt', dtype=int)\n",
    "        hmm1[name] = c\n",
    "\n"
   ]
  },
  {
   "cell_type": "code",
   "execution_count": 158,
   "metadata": {},
   "outputs": [],
   "source": [
    "hmm2 = {}\n",
    "transition_freq1= {}\n",
    "transition_freq2= {}\n",
    "local_div1= {}\n",
    "local_div2= {}\n",
    "\n",
    "columns = ['hmm2','transition_freq1', 'transition_freq2', 'local_div1', 'local_div2']\n",
    "base = '/home/pbryant/results/CATH/20190606/'\n",
    "for group in groups:\n",
    "    H_group_data = complete_with_hmm_df[complete_with_hmm_df['H_group_x']==group]\n",
    "    uid1 = [*H_group_data['uid1']]\n",
    "    uid2 = [*H_group_data['uid2']]\n",
    "    for i in range(0,len(uid1)):\n",
    "        name = uid1[i]+'_'+uid2[i]\n",
    "        a = np.loadtxt(base+group+'/'+name+'.hmm2.txt', dtype=int)\n",
    "        b = np.loadtxt(base+group+'/'+name+'.transition_freq1.txt', dtype=int)\n",
    "        c = np.loadtxt(base+group+'/'+name+'.transition_freq2.txt', dtype=int)\n",
    "        d = np.loadtxt(base+group+'/'+name+'.local_div1.txt', dtype=int)\n",
    "        e = np.loadtxt(base+group+'/'+name+'.local_div2.txt', dtype=int)\n",
    "        hmm2[name] = a\n",
    "        transition_freq1[name] =b\n",
    "        transition_freq2[name] =c\n",
    "        local_div1[name] =d\n",
    "        local_div2[name] =e\n",
    "\n"
   ]
  },
  {
   "cell_type": "code",
   "execution_count": 71,
   "metadata": {},
   "outputs": [],
   "source": [
    "#Convert * to 0 and rest to ints\n",
    "for i in range(0, len(hmm_list1)):\n",
    "    item = hmm_list1[i]\n",
    "    for j in range(0, len(item)):\n",
    "        for k in range(0, len(item[j])):\n",
    "            if item[j][k] == '*':\n",
    "                item[j][k] = 0\n",
    "            else:\n",
    "                item[j][k] = int(item[j][k])\n",
    "           \n",
    "    hmm_list1[i] = np.asarray(item)\n",
    "hmm_list1 = np.asarray(hmm_list1)"
   ]
  },
  {
   "cell_type": "code",
   "execution_count": 160,
   "metadata": {},
   "outputs": [],
   "source": [
    "h5.close()\n",
    "h5 = tables.open_file('/home/pbryant/results/CATH/20190606/data.h5', 'w', filters=tables.Filters(9, 'blosc:snappy'))\n",
    "\n",
    "\n",
    "# Create a group (~folder) and put stuff inside\n",
    "for hgroup in groups:\n",
    "    hgroup_s = hgroup.split('.')\n",
    "    group = h5.create_group(h5.root,'h_'+hgroup_s[0]+'_'+hgroup_s[1]+'_'+hgroup_s[2]+'_'+hgroup_s[3])\n",
    "    group_data = complete_with_hmm_df[complete_with_hmm_df['H_group_x']==hgroup]\n",
    "    uid1 = [*group_data['uid1']]\n",
    "    uid2 = [*group_data['uid2']]\n",
    "    for i in range(0, len(uid1)):\n",
    "        h5.create_carray(group, 'hmm1_'+uid1[i]+'_'+uid2[i], obj=hmm1[uid1[i]+'_'+uid2[i]])\n",
    "        h5.create_carray(group, 'hmm2_'+uid1[i]+'_'+uid2[i], obj=hmm2[uid1[i]+'_'+uid2[i]])\n",
    "        h5.create_carray(group, 'tf1_'+uid1[i]+'_'+uid2[i], obj=transition_freq1[uid1[i]+'_'+uid2[i]])\n",
    "        h5.create_carray(group, 'tf2_'+uid1[i]+'_'+uid2[i], obj=transition_freq2[uid1[i]+'_'+uid2[i]])\n",
    "        h5.create_carray(group, 'ld1_'+uid1[i]+'_'+uid2[i], obj=local_div1[uid1[i]+'_'+uid2[i]])\n",
    "        h5.create_carray(group, 'ld2_'+uid1[i]+'_'+uid2[i], obj=local_div2[uid1[i]+'_'+uid2[i]])\n",
    "h5.close()"
   ]
  },
  {
   "cell_type": "code",
   "execution_count": null,
   "metadata": {},
   "outputs": [],
   "source": [
    "def create_features(df):\n",
    "    '''Get features\n",
    "    '''\n",
    "    #Open h5\n",
    "    h5 = tables.open_file('/home/pbryant/results/CATH/20190606/data.h5')\n",
    "    #Get H_groups\n",
    "    groups = [*df['H_group_x']]\n",
    "    \n",
    "    #Get MLAAdist\n",
    "    evdist = np.asarray(df['MLAAdist_x'])\n",
    "    \n",
    "            \n",
    "    #Save features\n",
    "    enc_feature = []\n",
    "    \n",
    "    #Get hmms\n",
    "    for hgroup in groups:\n",
    "        group_data = df[df['H_group_x']==hgroup]\n",
    "        uid1 = [*group_data['uid1']]\n",
    "        uid2 = [*group_data['uid2']]\n",
    "        \n",
    "        #Get lengths\n",
    "        l1 = np.asarray(group_data['l1'])\n",
    "        l2 = np.asarray(group_data['l2'])\n",
    "        aln_len = np.asarray(group_data['aln_len'])\n",
    "        #Get starts and ends\n",
    "        s1 = np.asarray(group_data['s1'])\n",
    "        s2 = np.asarray(group_data['s2'])\n",
    "        e1 = np.asarray(group_data['e1'])\n",
    "        e2 = np.asarray(group_data['e2'])\n",
    "    \n",
    "        hgroup_s = hgroup.split('.')\n",
    "        group_name = 'h_'+hgroup_s[0]+'_'+hgroup_s[1]+'_'+hgroup_s[2]+'_'+hgroup_s[3]\n",
    "        for i in range(0,len(uid1)):\n",
    "            uids = uid1[i]+'_'+uid2[i]\n",
    "            hmm1 = np.concatenate(h5.root[group_name]['hmm1_'+uids][:])\n",
    "            hmm2 = np.concatenate(h5.root[group_name]['hmm2_'+uids][:])\n",
    "            tf1 = np.concatenate(h5.root[group_name]['tf1_'+uids][:])\n",
    "            tf2 = np.concatenate(h5.root[group_name]['tf2_'+uids][:])\n",
    "            ld1 = np.concatenate(h5.root[group_name]['ld1_'+uids][:])\n",
    "            ld2 = np.concatenate(h5.root[group_name]['ld2_'+uids][:])\n",
    "            \n",
    "            #Pad\n",
    "            hmm1 = np.pad(hmm1, (0,758*20-len(hmm1)), 'constant')\n",
    "            hmm2 = np.pad(hmm2, (0,758*20-len(hmm2)), 'constant')\n",
    "            tf1 = np.pad(tf1, (0,758*7-len(tf1)), 'constant')\n",
    "            tf2 = np.pad(tf2, (0,758*7-len(tf2)), 'constant')\n",
    "            ld1 = np.pad(ld1, (0,758*3-len(ld1)), 'constant')\n",
    "            ld2 = np.pad(ld2, (0,758*3-len(ld2)), 'constant')\n",
    "            \n",
    "            cat = np.concatenate((hmm1, hmm2, tf1, tf2, ld1, ld2), axis = 0)\n",
    "            \n",
    "            np.append(cat, l1[i])\n",
    "            np.append(cat, l2[i])        \n",
    "            np.append(cat, aln_len[i])\n",
    "            np.append(cat, evdist[i])\n",
    "            np.append(cat, s1[i])\n",
    "            np.append(cat, s2[i])\n",
    "            np.append(cat, e1[i])\n",
    "            np.append(cat, e2[i])\n",
    "            \n",
    "            enc_feature.append(cat) #Append to list\n",
    "\n",
    "    #Get RMSDs - should probably normalize with value 4,5 ?\n",
    "    rmsds = df['RMSD_x']\n",
    "    bins = np.arange(0,4.5,0.1)\n",
    "    #bins = np.arange(0.5,2.5,0.05)\n",
    "    #bins = np.insert(bins,0, 0)\n",
    "    #bins = np.append(bins, 4.5)\n",
    "    #Bin the TMscore RMSDs\n",
    "    binned_rmsds = np.digitize(rmsds, bins)\n",
    "\n",
    "    #Data\n",
    "    X = np.asarray(enc_feature)\n",
    "    y = np.asarray(rmsds)\n",
    "    y_binned = np.asarray(binned_rmsds) \n",
    "    \n",
    "    #Close h5 file\n",
    "    h5.close()\n",
    "    return(X, y, y_binned)\n",
    "\n",
    "#Get array\n",
    "h5 = tables.open_file('/home/pbryant/results/CATH/20190606/data.h5')\n",
    "#h5.root.h_1_10_1000_11.hmm1_1ku1A02_1re0B02[:]\n",
    "#Run Split above first\n",
    "#Padding\n",
    "maxlen=758\n",
    "#Time process\n",
    "start_time = time.time()\n",
    "X_train,y_train, y_train_binned = create_features(train_df)\n",
    "print(\"--- %s seconds ---\" % (time.time() - start_time))\n",
    "pdb.set_trace()\n",
    "X_valid,y_valid, y_valid_binned = create_features(valid_df)"
   ]
  }
 ],
 "metadata": {
  "kernelspec": {
   "display_name": "Python 3",
   "language": "python",
   "name": "python3"
  },
  "language_info": {
   "codemirror_mode": {
    "name": "ipython",
    "version": 3
   },
   "file_extension": ".py",
   "mimetype": "text/x-python",
   "name": "python",
   "nbconvert_exporter": "python",
   "pygments_lexer": "ipython3",
   "version": "3.6.8"
  }
 },
 "nbformat": 4,
 "nbformat_minor": 2
}
